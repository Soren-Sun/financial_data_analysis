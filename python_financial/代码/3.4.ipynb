{
 "cells": [
  {
   "cell_type": "code",
   "execution_count": 1,
   "id": "c962a9a7",
   "metadata": {},
   "outputs": [
    {
     "data": {
      "text/html": [
       "<div>\n",
       "<style scoped>\n",
       "    .dataframe tbody tr th:only-of-type {\n",
       "        vertical-align: middle;\n",
       "    }\n",
       "\n",
       "    .dataframe tbody tr th {\n",
       "        vertical-align: top;\n",
       "    }\n",
       "\n",
       "    .dataframe thead th {\n",
       "        text-align: right;\n",
       "    }\n",
       "</style>\n",
       "<table border=\"1\" class=\"dataframe\">\n",
       "  <thead>\n",
       "    <tr style=\"text-align: right;\">\n",
       "      <th></th>\n",
       "      <th>布伦特原油</th>\n",
       "      <th>西德州中质原油</th>\n",
       "      <th>迪拜原油</th>\n",
       "      <th>全球原油</th>\n",
       "    </tr>\n",
       "    <tr>\n",
       "      <th>日期</th>\n",
       "      <th></th>\n",
       "      <th></th>\n",
       "      <th></th>\n",
       "      <th></th>\n",
       "    </tr>\n",
       "  </thead>\n",
       "  <tbody>\n",
       "    <tr>\n",
       "      <th>2000-01-31</th>\n",
       "      <td>25.22</td>\n",
       "      <td>27.24</td>\n",
       "      <td>23.18</td>\n",
       "      <td>25.21</td>\n",
       "    </tr>\n",
       "    <tr>\n",
       "      <th>2000-02-29</th>\n",
       "      <td>27.63</td>\n",
       "      <td>29.21</td>\n",
       "      <td>24.62</td>\n",
       "      <td>27.15</td>\n",
       "    </tr>\n",
       "    <tr>\n",
       "      <th>2000-03-31</th>\n",
       "      <td>27.47</td>\n",
       "      <td>29.92</td>\n",
       "      <td>25.08</td>\n",
       "      <td>27.49</td>\n",
       "    </tr>\n",
       "    <tr>\n",
       "      <th>2000-04-30</th>\n",
       "      <td>22.54</td>\n",
       "      <td>25.78</td>\n",
       "      <td>22.03</td>\n",
       "      <td>23.45</td>\n",
       "    </tr>\n",
       "    <tr>\n",
       "      <th>2000-05-31</th>\n",
       "      <td>27.40</td>\n",
       "      <td>28.78</td>\n",
       "      <td>25.51</td>\n",
       "      <td>27.23</td>\n",
       "    </tr>\n",
       "    <tr>\n",
       "      <th>...</th>\n",
       "      <td>...</td>\n",
       "      <td>...</td>\n",
       "      <td>...</td>\n",
       "      <td>...</td>\n",
       "    </tr>\n",
       "    <tr>\n",
       "      <th>2021-05-31</th>\n",
       "      <td>68.04</td>\n",
       "      <td>65.23</td>\n",
       "      <td>66.01</td>\n",
       "      <td>66.43</td>\n",
       "    </tr>\n",
       "    <tr>\n",
       "      <th>2021-06-30</th>\n",
       "      <td>73.07</td>\n",
       "      <td>71.38</td>\n",
       "      <td>70.96</td>\n",
       "      <td>71.80</td>\n",
       "    </tr>\n",
       "    <tr>\n",
       "      <th>2021-07-31</th>\n",
       "      <td>74.39</td>\n",
       "      <td>72.58</td>\n",
       "      <td>72.88</td>\n",
       "      <td>73.28</td>\n",
       "    </tr>\n",
       "    <tr>\n",
       "      <th>2021-08-31</th>\n",
       "      <td>70.02</td>\n",
       "      <td>67.73</td>\n",
       "      <td>68.91</td>\n",
       "      <td>68.89</td>\n",
       "    </tr>\n",
       "    <tr>\n",
       "      <th>2021-09-30</th>\n",
       "      <td>74.60</td>\n",
       "      <td>71.46</td>\n",
       "      <td>72.24</td>\n",
       "      <td>72.77</td>\n",
       "    </tr>\n",
       "  </tbody>\n",
       "</table>\n",
       "<p>261 rows × 4 columns</p>\n",
       "</div>"
      ],
      "text/plain": [
       "            布伦特原油  西德州中质原油   迪拜原油   全球原油\n",
       "日期                                      \n",
       "2000-01-31  25.22    27.24  23.18  25.21\n",
       "2000-02-29  27.63    29.21  24.62  27.15\n",
       "2000-03-31  27.47    29.92  25.08  27.49\n",
       "2000-04-30  22.54    25.78  22.03  23.45\n",
       "2000-05-31  27.40    28.78  25.51  27.23\n",
       "...           ...      ...    ...    ...\n",
       "2021-05-31  68.04    65.23  66.01  66.43\n",
       "2021-06-30  73.07    71.38  70.96  71.80\n",
       "2021-07-31  74.39    72.58  72.88  73.28\n",
       "2021-08-31  70.02    67.73  68.91  68.89\n",
       "2021-09-30  74.60    71.46  72.24  72.77\n",
       "\n",
       "[261 rows x 4 columns]"
      ]
     },
     "execution_count": 1,
     "metadata": {},
     "output_type": "execute_result"
    }
   ],
   "source": [
    "import pandas as pd\n",
    "from pylab import mpl\n",
    "mpl.rcParams['font.sans-serif'] = ['KaiTi']\n",
    "file_path=r\"E:\\数据表格\\数据表格\\《Python金融实战案例精粹（第2版）》的数据Excel文件\\第3章\\3.4 案例数据\\原油价格.xlsx\"\n",
    "data=pd.read_excel(file_path,sheet_name='Sheet1',index_col='日期')\n",
    "data"
   ]
  },
  {
   "cell_type": "code",
   "execution_count": 2,
   "id": "58592f36",
   "metadata": {},
   "outputs": [
    {
     "data": {
      "text/plain": [
       "DatetimeIndex(['2000-01-31', '2000-02-29', '2000-03-31', '2000-04-30',\n",
       "               '2000-05-31', '2000-06-30', '2000-07-31', '2000-08-31',\n",
       "               '2000-09-30', '2000-10-31',\n",
       "               ...\n",
       "               '2020-12-31', '2021-01-31', '2021-02-28', '2021-03-31',\n",
       "               '2021-04-30', '2021-05-31', '2021-06-30', '2021-07-31',\n",
       "               '2021-08-31', '2021-09-30'],\n",
       "              dtype='datetime64[ns]', name='日期', length=261, freq=None)"
      ]
     },
     "execution_count": 2,
     "metadata": {},
     "output_type": "execute_result"
    }
   ],
   "source": [
    "data.index"
   ]
  },
  {
   "cell_type": "code",
   "execution_count": 3,
   "id": "4e970886",
   "metadata": {},
   "outputs": [
    {
     "data": {
      "text/plain": [
       "Index(['布伦特原油', '西德州中质原油', '迪拜原油', '全球原油'], dtype='object')"
      ]
     },
     "execution_count": 3,
     "metadata": {},
     "output_type": "execute_result"
    }
   ],
   "source": [
    "data.columns"
   ]
  },
  {
   "cell_type": "code",
   "execution_count": 4,
   "id": "02100193",
   "metadata": {},
   "outputs": [
    {
     "data": {
      "text/plain": [
       "(261, 4)"
      ]
     },
     "execution_count": 4,
     "metadata": {},
     "output_type": "execute_result"
    }
   ],
   "source": [
    "data.shape"
   ]
  },
  {
   "cell_type": "code",
   "execution_count": 5,
   "id": "9f447079",
   "metadata": {},
   "outputs": [
    {
     "data": {
      "text/plain": [
       "布伦特原油      float64\n",
       "西德州中质原油    float64\n",
       "迪拜原油       float64\n",
       "全球原油       float64\n",
       "dtype: object"
      ]
     },
     "execution_count": 5,
     "metadata": {},
     "output_type": "execute_result"
    }
   ],
   "source": [
    "data.dtypes"
   ]
  },
  {
   "cell_type": "code",
   "execution_count": 9,
   "id": "87cb6da1",
   "metadata": {},
   "outputs": [
    {
     "data": {
      "text/plain": [
       "pandas.core.frame.DataFrame"
      ]
     },
     "execution_count": 9,
     "metadata": {},
     "output_type": "execute_result"
    }
   ],
   "source": [
    "type(data)"
   ]
  },
  {
   "cell_type": "code",
   "execution_count": 12,
   "id": "949dfdab",
   "metadata": {},
   "outputs": [
    {
     "data": {
      "text/plain": [
       "布伦特原油      30.34\n",
       "西德州中质原油    33.32\n",
       "迪拜原油       27.42\n",
       "全球原油       30.36\n",
       "Name: 2003-03-31 00:00:00, dtype: float64"
      ]
     },
     "execution_count": 12,
     "metadata": {},
     "output_type": "execute_result"
    }
   ],
   "source": [
    "data.loc['2003-03-31']"
   ]
  },
  {
   "cell_type": "code",
   "execution_count": 17,
   "id": "506283c9",
   "metadata": {},
   "outputs": [
    {
     "data": {
      "text/plain": [
       "38"
      ]
     },
     "execution_count": 17,
     "metadata": {},
     "output_type": "execute_result"
    }
   ],
   "source": [
    "data.index.get_loc('2003-03-31')"
   ]
  },
  {
   "cell_type": "code",
   "execution_count": 19,
   "id": "ad545b0b",
   "metadata": {},
   "outputs": [
    {
     "data": {
      "text/plain": [
       "布伦特原油      30.34\n",
       "西德州中质原油    33.32\n",
       "迪拜原油       27.42\n",
       "全球原油       30.36\n",
       "Name: 2003-03-31 00:00:00, dtype: float64"
      ]
     },
     "execution_count": 19,
     "metadata": {},
     "output_type": "execute_result"
    }
   ],
   "source": [
    "data.iloc[38]"
   ]
  },
  {
   "cell_type": "code",
   "execution_count": 25,
   "id": "272aa487",
   "metadata": {},
   "outputs": [
    {
     "data": {
      "text/plain": [
       "日期\n",
       "2010-10-31     82.92\n",
       "2010-11-30     85.67\n",
       "2010-12-31     91.80\n",
       "2011-01-31     96.29\n",
       "2011-02-28    103.96\n",
       "2011-03-31    114.44\n",
       "2011-04-30    123.15\n",
       "Name: 布伦特原油, dtype: float64"
      ]
     },
     "execution_count": 25,
     "metadata": {},
     "output_type": "execute_result"
    }
   ],
   "source": [
    "data.loc['2010-10-31':'2011-04-30','布伦特原油']"
   ]
  },
  {
   "cell_type": "code",
   "execution_count": 26,
   "id": "7ee0d055",
   "metadata": {},
   "outputs": [
    {
     "data": {
      "text/html": [
       "<div>\n",
       "<style scoped>\n",
       "    .dataframe tbody tr th:only-of-type {\n",
       "        vertical-align: middle;\n",
       "    }\n",
       "\n",
       "    .dataframe tbody tr th {\n",
       "        vertical-align: top;\n",
       "    }\n",
       "\n",
       "    .dataframe thead th {\n",
       "        text-align: right;\n",
       "    }\n",
       "</style>\n",
       "<table border=\"1\" class=\"dataframe\">\n",
       "  <thead>\n",
       "    <tr style=\"text-align: right;\">\n",
       "      <th></th>\n",
       "      <th>西德州中质原油</th>\n",
       "      <th>迪拜原油</th>\n",
       "      <th>全球原油</th>\n",
       "    </tr>\n",
       "    <tr>\n",
       "      <th>日期</th>\n",
       "      <th></th>\n",
       "      <th></th>\n",
       "      <th></th>\n",
       "    </tr>\n",
       "  </thead>\n",
       "  <tbody>\n",
       "    <tr>\n",
       "      <th>2002-02-28</th>\n",
       "      <td>20.72</td>\n",
       "      <td>18.91</td>\n",
       "      <td>19.98</td>\n",
       "    </tr>\n",
       "    <tr>\n",
       "      <th>2002-03-31</th>\n",
       "      <td>24.38</td>\n",
       "      <td>22.85</td>\n",
       "      <td>23.64</td>\n",
       "    </tr>\n",
       "    <tr>\n",
       "      <th>2002-04-30</th>\n",
       "      <td>26.24</td>\n",
       "      <td>24.41</td>\n",
       "      <td>25.43</td>\n",
       "    </tr>\n",
       "    <tr>\n",
       "      <th>2002-05-31</th>\n",
       "      <td>27.04</td>\n",
       "      <td>24.59</td>\n",
       "      <td>25.69</td>\n",
       "    </tr>\n",
       "    <tr>\n",
       "      <th>2002-06-30</th>\n",
       "      <td>25.51</td>\n",
       "      <td>23.83</td>\n",
       "      <td>24.49</td>\n",
       "    </tr>\n",
       "    <tr>\n",
       "      <th>2002-07-31</th>\n",
       "      <td>26.92</td>\n",
       "      <td>24.57</td>\n",
       "      <td>25.75</td>\n",
       "    </tr>\n",
       "    <tr>\n",
       "      <th>2002-08-31</th>\n",
       "      <td>28.37</td>\n",
       "      <td>25.32</td>\n",
       "      <td>26.78</td>\n",
       "    </tr>\n",
       "    <tr>\n",
       "      <th>2002-09-30</th>\n",
       "      <td>29.67</td>\n",
       "      <td>26.83</td>\n",
       "      <td>28.28</td>\n",
       "    </tr>\n",
       "  </tbody>\n",
       "</table>\n",
       "</div>"
      ],
      "text/plain": [
       "            西德州中质原油   迪拜原油   全球原油\n",
       "日期                               \n",
       "2002-02-28    20.72  18.91  19.98\n",
       "2002-03-31    24.38  22.85  23.64\n",
       "2002-04-30    26.24  24.41  25.43\n",
       "2002-05-31    27.04  24.59  25.69\n",
       "2002-06-30    25.51  23.83  24.49\n",
       "2002-07-31    26.92  24.57  25.75\n",
       "2002-08-31    28.37  25.32  26.78\n",
       "2002-09-30    29.67  26.83  28.28"
      ]
     },
     "execution_count": 26,
     "metadata": {},
     "output_type": "execute_result"
    }
   ],
   "source": [
    "data.iloc[25:33,1:4]"
   ]
  },
  {
   "cell_type": "code",
   "execution_count": 28,
   "id": "1867a555",
   "metadata": {},
   "outputs": [
    {
     "data": {
      "text/html": [
       "<div>\n",
       "<style scoped>\n",
       "    .dataframe tbody tr th:only-of-type {\n",
       "        vertical-align: middle;\n",
       "    }\n",
       "\n",
       "    .dataframe tbody tr th {\n",
       "        vertical-align: top;\n",
       "    }\n",
       "\n",
       "    .dataframe thead th {\n",
       "        text-align: right;\n",
       "    }\n",
       "</style>\n",
       "<table border=\"1\" class=\"dataframe\">\n",
       "  <thead>\n",
       "    <tr style=\"text-align: right;\">\n",
       "      <th></th>\n",
       "      <th>布伦特原油</th>\n",
       "      <th>西德州中质原油</th>\n",
       "      <th>迪拜原油</th>\n",
       "      <th>全球原油</th>\n",
       "    </tr>\n",
       "    <tr>\n",
       "      <th>日期</th>\n",
       "      <th></th>\n",
       "      <th></th>\n",
       "      <th></th>\n",
       "      <th></th>\n",
       "    </tr>\n",
       "  </thead>\n",
       "  <tbody>\n",
       "    <tr>\n",
       "      <th>2001-11-30</th>\n",
       "      <td>18.94</td>\n",
       "      <td>19.59</td>\n",
       "      <td>17.53</td>\n",
       "      <td>18.69</td>\n",
       "    </tr>\n",
       "    <tr>\n",
       "      <th>2001-12-31</th>\n",
       "      <td>18.60</td>\n",
       "      <td>19.31</td>\n",
       "      <td>17.64</td>\n",
       "      <td>18.52</td>\n",
       "    </tr>\n",
       "    <tr>\n",
       "      <th>2002-01-31</th>\n",
       "      <td>19.48</td>\n",
       "      <td>19.69</td>\n",
       "      <td>18.29</td>\n",
       "      <td>19.15</td>\n",
       "    </tr>\n",
       "    <tr>\n",
       "      <th>2002-02-28</th>\n",
       "      <td>20.29</td>\n",
       "      <td>20.72</td>\n",
       "      <td>18.91</td>\n",
       "      <td>19.98</td>\n",
       "    </tr>\n",
       "  </tbody>\n",
       "</table>\n",
       "</div>"
      ],
      "text/plain": [
       "            布伦特原油  西德州中质原油   迪拜原油   全球原油\n",
       "日期                                      \n",
       "2001-11-30  18.94    19.59  17.53  18.69\n",
       "2001-12-31  18.60    19.31  17.64  18.52\n",
       "2002-01-31  19.48    19.69  18.29  19.15\n",
       "2002-02-28  20.29    20.72  18.91  19.98"
      ]
     },
     "execution_count": 28,
     "metadata": {},
     "output_type": "execute_result"
    }
   ],
   "source": [
    "data[data['全球原油']<20.0]"
   ]
  },
  {
   "cell_type": "code",
   "execution_count": 33,
   "id": "e580be25",
   "metadata": {},
   "outputs": [
    {
     "data": {
      "text/html": [
       "<div>\n",
       "<style scoped>\n",
       "    .dataframe tbody tr th:only-of-type {\n",
       "        vertical-align: middle;\n",
       "    }\n",
       "\n",
       "    .dataframe tbody tr th {\n",
       "        vertical-align: top;\n",
       "    }\n",
       "\n",
       "    .dataframe thead th {\n",
       "        text-align: right;\n",
       "    }\n",
       "</style>\n",
       "<table border=\"1\" class=\"dataframe\">\n",
       "  <thead>\n",
       "    <tr style=\"text-align: right;\">\n",
       "      <th></th>\n",
       "      <th>布伦特原油</th>\n",
       "      <th>西德州中质原油</th>\n",
       "      <th>迪拜原油</th>\n",
       "      <th>全球原油</th>\n",
       "    </tr>\n",
       "    <tr>\n",
       "      <th>日期</th>\n",
       "      <th></th>\n",
       "      <th></th>\n",
       "      <th></th>\n",
       "      <th></th>\n",
       "    </tr>\n",
       "  </thead>\n",
       "  <tbody>\n",
       "    <tr>\n",
       "      <th>2013-10-31</th>\n",
       "      <td>109.48</td>\n",
       "      <td>100.50</td>\n",
       "      <td>106.39</td>\n",
       "      <td>105.46</td>\n",
       "    </tr>\n",
       "    <tr>\n",
       "      <th>2014-05-31</th>\n",
       "      <td>109.68</td>\n",
       "      <td>102.00</td>\n",
       "      <td>105.51</td>\n",
       "      <td>105.73</td>\n",
       "    </tr>\n",
       "    <tr>\n",
       "      <th>2014-07-31</th>\n",
       "      <td>106.98</td>\n",
       "      <td>102.99</td>\n",
       "      <td>105.71</td>\n",
       "      <td>105.22</td>\n",
       "    </tr>\n",
       "  </tbody>\n",
       "</table>\n",
       "</div>"
      ],
      "text/plain": [
       "             布伦特原油  西德州中质原油    迪拜原油    全球原油\n",
       "日期                                         \n",
       "2013-10-31  109.48   100.50  106.39  105.46\n",
       "2014-05-31  109.68   102.00  105.51  105.73\n",
       "2014-07-31  106.98   102.99  105.71  105.22"
      ]
     },
     "execution_count": 33,
     "metadata": {},
     "output_type": "execute_result"
    }
   ],
   "source": [
    "data[  \n",
    "    (data['布伦特原油'] <= 110) &   \n",
    "    (data['西德州中质原油'] > 100) &   \n",
    "    (data['迪拜原油'] > 105)  \n",
    "]  "
   ]
  },
  {
   "cell_type": "code",
   "execution_count": null,
   "id": "e44bb74d",
   "metadata": {},
   "outputs": [],
   "source": []
  },
  {
   "cell_type": "code",
   "execution_count": null,
   "id": "7c61b9b4",
   "metadata": {},
   "outputs": [],
   "source": []
  }
 ],
 "metadata": {
  "kernelspec": {
   "display_name": "Python 3 (ipykernel)",
   "language": "python",
   "name": "python3"
  },
  "language_info": {
   "codemirror_mode": {
    "name": "ipython",
    "version": 3
   },
   "file_extension": ".py",
   "mimetype": "text/x-python",
   "name": "python",
   "nbconvert_exporter": "python",
   "pygments_lexer": "ipython3",
   "version": "3.10.9"
  }
 },
 "nbformat": 4,
 "nbformat_minor": 5
}
